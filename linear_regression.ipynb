{
  "nbformat": 4,
  "nbformat_minor": 0,
  "metadata": {
    "colab": {
      "provenance": []
    },
    "kernelspec": {
      "name": "python3",
      "display_name": "Python 3"
    },
    "language_info": {
      "name": "python"
    }
  },
  "cells": [
    {
      "cell_type": "code",
      "execution_count": null,
      "metadata": {
        "colab": {
          "base_uri": "https://localhost:8080/"
        },
        "id": "AmYx_e0Iejh_",
        "outputId": "028a4931-46d4-446c-a610-479167a70cd3"
      },
      "outputs": [
        {
          "output_type": "stream",
          "name": "stdout",
          "text": [
            "Mean Squared Error: 5.465639661450036e-24\n",
            "Model Intercept (Bias): 2940.558345642541\n",
            "Feature Coefficients: {'Base Price': 3306.031535192916, 'Stock': -3.607928489081566e-13, 'No_of_Reviewers': 1.602276938590013e-12, 'Rating': -1.0260570165468926e-12, 'Pieces sold': -7.386158338267468e-14, 'Gender': 8.238362097658696e-13, 'Feature_Frequency': 6.905196327119609e-13, 'Material_Frequency': -8.202981054597167e-13, 'Color_Frequency': -2.7227316505836383e-13}\n",
            "   Base Price  Market Price  Optimized Price  Predicted Price\n",
            "0    595.1088       1525.92        833.15232          1525.92\n",
            "1   1901.6712       4876.08       2662.33968          4876.08\n",
            "2   1029.0852       2638.68       1440.71928          2638.68\n",
            "3   5147.4852      13198.68       7206.47928         13198.68\n",
            "4    647.6184       1660.56        906.66576          1660.56\n"
          ]
        }
      ],
      "source": [
        "# Import necessary libraries\n",
        "import pandas as pd\n",
        "from sklearn.model_selection import train_test_split\n",
        "from sklearn.linear_model import LinearRegression\n",
        "from sklearn.preprocessing import StandardScaler\n",
        "from sklearn.metrics import mean_squared_error\n",
        "\n",
        "# Load the dataset\n",
        "file_path = '/content/Cleaned_file10.csv'  # Replace with the correct path to your file\n",
        "data = pd.read_csv(file_path)\n",
        "\n",
        "# Clean and preprocess the dataset\n",
        "# Replace 'Contact seller' in all columns and handle non-numeric data\n",
        "data.replace('Contact seller', float('nan'), inplace=True)\n",
        "data.replace(\"Seller's other items\", float('nan'), inplace=True)\n",
        "\n",
        "# Convert all columns to numeric where possible\n",
        "for col in data.columns:\n",
        "    data[col] = pd.to_numeric(data[col], errors='coerce')\n",
        "\n",
        "# Drop rows with missing values in critical columns\n",
        "critical_columns = ['Base Price', 'Market Price', 'Stock', 'Rating', 'Pieces sold']\n",
        "data.dropna(subset=critical_columns, inplace=True)\n",
        "\n",
        "# Define features and target\n",
        "features = ['Base Price', 'Stock', 'No_of_Reviewers', 'Rating', 'Pieces sold',\n",
        "            'Gender', 'Feature_Frequency', 'Material_Frequency', 'Color_Frequency']\n",
        "target = 'Market Price'\n",
        "\n",
        "X = data[features]\n",
        "y = data[target]\n",
        "\n",
        "# Split the dataset into training and testing sets\n",
        "X_train, X_test, y_train, y_test = train_test_split(X, y, test_size=0.2, random_state=42)\n",
        "\n",
        "# Scale the features (optional but improves performance in some cases)\n",
        "scaler = StandardScaler()\n",
        "X_train_scaled = scaler.fit_transform(X_train)\n",
        "X_test_scaled = scaler.transform(X_test)\n",
        "\n",
        "# Train a Linear Regression model\n",
        "model = LinearRegression()\n",
        "model.fit(X_train_scaled, y_train)\n",
        "\n",
        "# Evaluate the model\n",
        "y_pred = model.predict(X_test_scaled)\n",
        "mse = mean_squared_error(y_test, y_pred)\n",
        "print(f\"Mean Squared Error: {mse}\")\n",
        "\n",
        "# Display the model coefficients and intercept\n",
        "print(\"Model Intercept (Bias):\", model.intercept_)\n",
        "print(\"Feature Coefficients:\", dict(zip(features, model.coef_)))\n",
        "\n",
        "# Price optimization: Adjust prices to be 40-60% above the base price\n",
        "optimized_prices = data['Base Price'] * 1.4  # Start with 40% above base price\n",
        "data['Optimized Price'] = optimized_prices.clip(\n",
        "    lower=data['Base Price'] * 1.4,\n",
        "    upper=data['Base Price'] * 1.6  # Ensure within 40-60% range\n",
        ")\n",
        "\n",
        "# Compare optimized prices with predicted prices\n",
        "data['Predicted Price'] = model.predict(scaler.transform(data[features]))\n",
        "\n",
        "# Display sample results\n",
        "print(data[['Base Price', 'Market Price', 'Optimized Price', 'Predicted Price']].head())\n"
      ]
    }
  ]
}